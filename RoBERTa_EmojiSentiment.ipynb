{
  "nbformat": 4,
  "nbformat_minor": 0,
  "metadata": {
    "colab": {
      "provenance": [],
      "machine_shape": "hm",
      "gpuType": "V100",
      "toc_visible": true,
      "authorship_tag": "ABX9TyNFYW0b4pBpS0I6XKOyRt27",
      "include_colab_link": true
    },
    "kernelspec": {
      "name": "python3",
      "display_name": "Python 3"
    },
    "language_info": {
      "name": "python"
    },
    "accelerator": "GPU"
  },
  "cells": [
    {
      "cell_type": "markdown",
      "metadata": {
        "id": "view-in-github",
        "colab_type": "text"
      },
      "source": [
        "<a href=\"https://colab.research.google.com/github/Keetawin/RoBERTaEmojiSentimentAnalysis/blob/main/RoBERTa_EmojiSentiment.ipynb\" target=\"_parent\"><img src=\"https://colab.research.google.com/assets/colab-badge.svg\" alt=\"Open In Colab\"/></a>"
      ]
    },
    {
      "cell_type": "markdown",
      "source": [
        "# Import required Library"
      ],
      "metadata": {
        "id": "yZFXM-fo11gO"
      }
    },
    {
      "cell_type": "code",
      "execution_count": null,
      "metadata": {
        "id": "pjaA7UXlxtKL"
      },
      "outputs": [],
      "source": [
        "from sklearn.model_selection import train_test_split\n",
        "from sklearn.metrics import classification_report, confusion_matrix\n",
        "import _utils as fn\n",
        "import numpy as np\n",
        "import pandas as pd\n",
        "import matplotlib.pyplot as plt\n",
        "import seaborn as sns\n",
        "from transformers import set_seed\n",
        "import torch\n",
        "import transformers\n",
        "from transformers import BertTokenizer, BertModel,AutoTokenizer, AutoModelForMaskedLM,AutoModelForSequenceClassification,get_linear_schedule_with_warmup\n",
        "from torch import nn\n",
        "from torch.utils.data import Dataset, DataLoader\n",
        "import tqdm\n"
      ]
    },
    {
      "cell_type": "code",
      "source": [
        "device = \"cuda\" if torch.cuda.is_available() else \"cpu\"\n",
        "device"
      ],
      "metadata": {
        "colab": {
          "base_uri": "https://localhost:8080/",
          "height": 35
        },
        "id": "ZQ-8DVQPA8bk",
        "outputId": "a98fc5c0-1bb8-4bac-d79c-8bbbfdc80822"
      },
      "execution_count": null,
      "outputs": [
        {
          "output_type": "execute_result",
          "data": {
            "text/plain": [
              "'cuda'"
            ],
            "application/vnd.google.colaboratory.intrinsic+json": {
              "type": "string"
            }
          },
          "metadata": {},
          "execution_count": 2
        }
      ]
    },
    {
      "cell_type": "code",
      "source": [
        "RANDOM_SEED = 42\n",
        "np.random.seed(RANDOM_SEED)\n",
        "torch.manual_seed(RANDOM_SEED)"
      ],
      "metadata": {
        "colab": {
          "base_uri": "https://localhost:8080/"
        },
        "id": "4omuaWd-6dD4",
        "outputId": "7ebc2b1e-c3ed-4c8b-fb2e-55f3adc73331"
      },
      "execution_count": null,
      "outputs": [
        {
          "output_type": "execute_result",
          "data": {
            "text/plain": [
              "<torch._C.Generator at 0x7c6dd90def10>"
            ]
          },
          "metadata": {},
          "execution_count": 3
        }
      ]
    },
    {
      "cell_type": "markdown",
      "source": [
        "# Import Data & Analyse distribution"
      ],
      "metadata": {
        "id": "hVjJeqt-14py"
      }
    },
    {
      "cell_type": "code",
      "source": [
        "df = pd.read_csv('emoji_data.csv')\n"
      ],
      "metadata": {
        "id": "UctUO4ewzgOC"
      },
      "execution_count": null,
      "outputs": []
    },
    {
      "cell_type": "code",
      "source": [
        "df.head()"
      ],
      "metadata": {
        "colab": {
          "base_uri": "https://localhost:8080/",
          "height": 206
        },
        "id": "szwSDEur3vda",
        "outputId": "9356eb25-7490-4c65-8a3b-4142ff601196"
      },
      "execution_count": null,
      "outputs": [
        {
          "output_type": "execute_result",
          "data": {
            "text/plain": [
              "                                            sentence  emoji\n",
              "0  During the period of falling in love, each tim...      0\n",
              "1         When I was involved in a traffic accident.      1\n",
              "2  When I was driving home after  several days of...      2\n",
              "3   When I lost the person who meant the most to me.      3\n",
              "4  The time I knocked a deer down - the sight of ...      4"
            ],
            "text/html": [
              "\n",
              "  <div id=\"df-83d3b3ba-f443-4008-9470-71697fc4b9ed\" class=\"colab-df-container\">\n",
              "    <div>\n",
              "<style scoped>\n",
              "    .dataframe tbody tr th:only-of-type {\n",
              "        vertical-align: middle;\n",
              "    }\n",
              "\n",
              "    .dataframe tbody tr th {\n",
              "        vertical-align: top;\n",
              "    }\n",
              "\n",
              "    .dataframe thead th {\n",
              "        text-align: right;\n",
              "    }\n",
              "</style>\n",
              "<table border=\"1\" class=\"dataframe\">\n",
              "  <thead>\n",
              "    <tr style=\"text-align: right;\">\n",
              "      <th></th>\n",
              "      <th>sentence</th>\n",
              "      <th>emoji</th>\n",
              "    </tr>\n",
              "  </thead>\n",
              "  <tbody>\n",
              "    <tr>\n",
              "      <th>0</th>\n",
              "      <td>During the period of falling in love, each tim...</td>\n",
              "      <td>0</td>\n",
              "    </tr>\n",
              "    <tr>\n",
              "      <th>1</th>\n",
              "      <td>When I was involved in a traffic accident.</td>\n",
              "      <td>1</td>\n",
              "    </tr>\n",
              "    <tr>\n",
              "      <th>2</th>\n",
              "      <td>When I was driving home after  several days of...</td>\n",
              "      <td>2</td>\n",
              "    </tr>\n",
              "    <tr>\n",
              "      <th>3</th>\n",
              "      <td>When I lost the person who meant the most to me.</td>\n",
              "      <td>3</td>\n",
              "    </tr>\n",
              "    <tr>\n",
              "      <th>4</th>\n",
              "      <td>The time I knocked a deer down - the sight of ...</td>\n",
              "      <td>4</td>\n",
              "    </tr>\n",
              "  </tbody>\n",
              "</table>\n",
              "</div>\n",
              "    <div class=\"colab-df-buttons\">\n",
              "\n",
              "  <div class=\"colab-df-container\">\n",
              "    <button class=\"colab-df-convert\" onclick=\"convertToInteractive('df-83d3b3ba-f443-4008-9470-71697fc4b9ed')\"\n",
              "            title=\"Convert this dataframe to an interactive table.\"\n",
              "            style=\"display:none;\">\n",
              "\n",
              "  <svg xmlns=\"http://www.w3.org/2000/svg\" height=\"24px\" viewBox=\"0 -960 960 960\">\n",
              "    <path d=\"M120-120v-720h720v720H120Zm60-500h600v-160H180v160Zm220 220h160v-160H400v160Zm0 220h160v-160H400v160ZM180-400h160v-160H180v160Zm440 0h160v-160H620v160ZM180-180h160v-160H180v160Zm440 0h160v-160H620v160Z\"/>\n",
              "  </svg>\n",
              "    </button>\n",
              "\n",
              "  <style>\n",
              "    .colab-df-container {\n",
              "      display:flex;\n",
              "      gap: 12px;\n",
              "    }\n",
              "\n",
              "    .colab-df-convert {\n",
              "      background-color: #E8F0FE;\n",
              "      border: none;\n",
              "      border-radius: 50%;\n",
              "      cursor: pointer;\n",
              "      display: none;\n",
              "      fill: #1967D2;\n",
              "      height: 32px;\n",
              "      padding: 0 0 0 0;\n",
              "      width: 32px;\n",
              "    }\n",
              "\n",
              "    .colab-df-convert:hover {\n",
              "      background-color: #E2EBFA;\n",
              "      box-shadow: 0px 1px 2px rgba(60, 64, 67, 0.3), 0px 1px 3px 1px rgba(60, 64, 67, 0.15);\n",
              "      fill: #174EA6;\n",
              "    }\n",
              "\n",
              "    .colab-df-buttons div {\n",
              "      margin-bottom: 4px;\n",
              "    }\n",
              "\n",
              "    [theme=dark] .colab-df-convert {\n",
              "      background-color: #3B4455;\n",
              "      fill: #D2E3FC;\n",
              "    }\n",
              "\n",
              "    [theme=dark] .colab-df-convert:hover {\n",
              "      background-color: #434B5C;\n",
              "      box-shadow: 0px 1px 3px 1px rgba(0, 0, 0, 0.15);\n",
              "      filter: drop-shadow(0px 1px 2px rgba(0, 0, 0, 0.3));\n",
              "      fill: #FFFFFF;\n",
              "    }\n",
              "  </style>\n",
              "\n",
              "    <script>\n",
              "      const buttonEl =\n",
              "        document.querySelector('#df-83d3b3ba-f443-4008-9470-71697fc4b9ed button.colab-df-convert');\n",
              "      buttonEl.style.display =\n",
              "        google.colab.kernel.accessAllowed ? 'block' : 'none';\n",
              "\n",
              "      async function convertToInteractive(key) {\n",
              "        const element = document.querySelector('#df-83d3b3ba-f443-4008-9470-71697fc4b9ed');\n",
              "        const dataTable =\n",
              "          await google.colab.kernel.invokeFunction('convertToInteractive',\n",
              "                                                    [key], {});\n",
              "        if (!dataTable) return;\n",
              "\n",
              "        const docLinkHtml = 'Like what you see? Visit the ' +\n",
              "          '<a target=\"_blank\" href=https://colab.research.google.com/notebooks/data_table.ipynb>data table notebook</a>'\n",
              "          + ' to learn more about interactive tables.';\n",
              "        element.innerHTML = '';\n",
              "        dataTable['output_type'] = 'display_data';\n",
              "        await google.colab.output.renderOutput(dataTable, element);\n",
              "        const docLink = document.createElement('div');\n",
              "        docLink.innerHTML = docLinkHtml;\n",
              "        element.appendChild(docLink);\n",
              "      }\n",
              "    </script>\n",
              "  </div>\n",
              "\n",
              "\n",
              "<div id=\"df-de80a109-82f1-4829-ba34-5f93b5efca5b\">\n",
              "  <button class=\"colab-df-quickchart\" onclick=\"quickchart('df-de80a109-82f1-4829-ba34-5f93b5efca5b')\"\n",
              "            title=\"Suggest charts\"\n",
              "            style=\"display:none;\">\n",
              "\n",
              "<svg xmlns=\"http://www.w3.org/2000/svg\" height=\"24px\"viewBox=\"0 0 24 24\"\n",
              "     width=\"24px\">\n",
              "    <g>\n",
              "        <path d=\"M19 3H5c-1.1 0-2 .9-2 2v14c0 1.1.9 2 2 2h14c1.1 0 2-.9 2-2V5c0-1.1-.9-2-2-2zM9 17H7v-7h2v7zm4 0h-2V7h2v10zm4 0h-2v-4h2v4z\"/>\n",
              "    </g>\n",
              "</svg>\n",
              "  </button>\n",
              "\n",
              "<style>\n",
              "  .colab-df-quickchart {\n",
              "      --bg-color: #E8F0FE;\n",
              "      --fill-color: #1967D2;\n",
              "      --hover-bg-color: #E2EBFA;\n",
              "      --hover-fill-color: #174EA6;\n",
              "      --disabled-fill-color: #AAA;\n",
              "      --disabled-bg-color: #DDD;\n",
              "  }\n",
              "\n",
              "  [theme=dark] .colab-df-quickchart {\n",
              "      --bg-color: #3B4455;\n",
              "      --fill-color: #D2E3FC;\n",
              "      --hover-bg-color: #434B5C;\n",
              "      --hover-fill-color: #FFFFFF;\n",
              "      --disabled-bg-color: #3B4455;\n",
              "      --disabled-fill-color: #666;\n",
              "  }\n",
              "\n",
              "  .colab-df-quickchart {\n",
              "    background-color: var(--bg-color);\n",
              "    border: none;\n",
              "    border-radius: 50%;\n",
              "    cursor: pointer;\n",
              "    display: none;\n",
              "    fill: var(--fill-color);\n",
              "    height: 32px;\n",
              "    padding: 0;\n",
              "    width: 32px;\n",
              "  }\n",
              "\n",
              "  .colab-df-quickchart:hover {\n",
              "    background-color: var(--hover-bg-color);\n",
              "    box-shadow: 0 1px 2px rgba(60, 64, 67, 0.3), 0 1px 3px 1px rgba(60, 64, 67, 0.15);\n",
              "    fill: var(--button-hover-fill-color);\n",
              "  }\n",
              "\n",
              "  .colab-df-quickchart-complete:disabled,\n",
              "  .colab-df-quickchart-complete:disabled:hover {\n",
              "    background-color: var(--disabled-bg-color);\n",
              "    fill: var(--disabled-fill-color);\n",
              "    box-shadow: none;\n",
              "  }\n",
              "\n",
              "  .colab-df-spinner {\n",
              "    border: 2px solid var(--fill-color);\n",
              "    border-color: transparent;\n",
              "    border-bottom-color: var(--fill-color);\n",
              "    animation:\n",
              "      spin 1s steps(1) infinite;\n",
              "  }\n",
              "\n",
              "  @keyframes spin {\n",
              "    0% {\n",
              "      border-color: transparent;\n",
              "      border-bottom-color: var(--fill-color);\n",
              "      border-left-color: var(--fill-color);\n",
              "    }\n",
              "    20% {\n",
              "      border-color: transparent;\n",
              "      border-left-color: var(--fill-color);\n",
              "      border-top-color: var(--fill-color);\n",
              "    }\n",
              "    30% {\n",
              "      border-color: transparent;\n",
              "      border-left-color: var(--fill-color);\n",
              "      border-top-color: var(--fill-color);\n",
              "      border-right-color: var(--fill-color);\n",
              "    }\n",
              "    40% {\n",
              "      border-color: transparent;\n",
              "      border-right-color: var(--fill-color);\n",
              "      border-top-color: var(--fill-color);\n",
              "    }\n",
              "    60% {\n",
              "      border-color: transparent;\n",
              "      border-right-color: var(--fill-color);\n",
              "    }\n",
              "    80% {\n",
              "      border-color: transparent;\n",
              "      border-right-color: var(--fill-color);\n",
              "      border-bottom-color: var(--fill-color);\n",
              "    }\n",
              "    90% {\n",
              "      border-color: transparent;\n",
              "      border-bottom-color: var(--fill-color);\n",
              "    }\n",
              "  }\n",
              "</style>\n",
              "\n",
              "  <script>\n",
              "    async function quickchart(key) {\n",
              "      const quickchartButtonEl =\n",
              "        document.querySelector('#' + key + ' button');\n",
              "      quickchartButtonEl.disabled = true;  // To prevent multiple clicks.\n",
              "      quickchartButtonEl.classList.add('colab-df-spinner');\n",
              "      try {\n",
              "        const charts = await google.colab.kernel.invokeFunction(\n",
              "            'suggestCharts', [key], {});\n",
              "      } catch (error) {\n",
              "        console.error('Error during call to suggestCharts:', error);\n",
              "      }\n",
              "      quickchartButtonEl.classList.remove('colab-df-spinner');\n",
              "      quickchartButtonEl.classList.add('colab-df-quickchart-complete');\n",
              "    }\n",
              "    (() => {\n",
              "      let quickchartButtonEl =\n",
              "        document.querySelector('#df-de80a109-82f1-4829-ba34-5f93b5efca5b button');\n",
              "      quickchartButtonEl.style.display =\n",
              "        google.colab.kernel.accessAllowed ? 'block' : 'none';\n",
              "    })();\n",
              "  </script>\n",
              "</div>\n",
              "    </div>\n",
              "  </div>\n"
            ]
          },
          "metadata": {},
          "execution_count": 5
        }
      ]
    },
    {
      "cell_type": "code",
      "source": [
        "\n",
        "emoji_to_emotion = {\n",
        "  0: 'joy 😆',\n",
        "    1: 'fear 😱',\n",
        "    2: 'anger 😡',\n",
        "    3: 'sadness 😭',\n",
        "    4: 'disgust 🤮',\n",
        "    5: 'shame 😳',\n",
        "    6: 'guilt 😞'\n",
        "}\n",
        "\n",
        "# Map emotions to DataFrame\n",
        "df['emotion'] = df['emoji'].map(emoji_to_emotion)\n",
        "\n",
        "# Plot count plot\n",
        "plt.figure(figsize=(8, 6))\n",
        "sns.countplot(x='emotion', data=df, palette='viridis')\n",
        "plt.title('Count Plot of Emotions')\n",
        "plt.xlabel('Emotion')\n",
        "plt.ylabel('Count')\n",
        "plt.show()"
      ],
      "metadata": {
        "colab": {
          "base_uri": "https://localhost:8080/",
          "height": 620
        },
        "id": "ov_Rw20y0eIl",
        "outputId": "d30a0731-8720-4ae7-91b4-f20d50ccdd6f"
      },
      "execution_count": null,
      "outputs": [
        {
          "output_type": "stream",
          "name": "stderr",
          "text": [
            "/usr/local/lib/python3.10/dist-packages/IPython/core/pylabtools.py:151: UserWarning: Glyph 129326 (\\N{FACE WITH OPEN MOUTH VOMITING}) missing from current font.\n",
            "  fig.canvas.print_figure(bytes_io, **kw)\n"
          ]
        },
        {
          "output_type": "display_data",
          "data": {
            "text/plain": [
              "<Figure size 800x600 with 1 Axes>"
            ],
            "image/png": "[encoded data removed]"
          },
          "metadata": {}
        }
      ]
    },
    {
      "cell_type": "markdown",
      "source": [
        "see how the RoBERTa tokenizer converts sentences into token ids."
      ],
      "metadata": {
        "id": "A4oAJ7J32VKO"
      }
    },
    {
      "cell_type": "code",
      "source": [
        "from transformers import AutoTokenizer\n",
        "\n",
        "bert_model_name = 'SamLowe/roberta-base-go_emotions'\n",
        "tokenizer = AutoTokenizer.from_pretrained(bert_model_name)\n",
        "\n",
        "sample_text = df.sentence[0]\n",
        "tokens = tokenizer.tokenize(sample_text)\n",
        "ids = tokenizer.convert_tokens_to_ids(tokens)\n",
        "\n",
        "print(f'{sample_text}')\n",
        "print('-'*60)\n",
        "print(tokens)\n",
        "print('-'*60)\n",
        "print(ids)\n"
      ],
      "metadata": {
        "colab": {
          "base_uri": "https://localhost:8080/"
        },
        "id": "DjRUeOo72r7y",
        "outputId": "b95e33d2-b2d9-4991-f4ef-d7d12a539eda"
      },
      "execution_count": null,
      "outputs": [
        {
          "output_type": "stream",
          "name": "stdout",
          "text": [
            "During the period of falling in love, each time that we met and especially when we had not met for a long time.\n",
            "------------------------------------------------------------\n",
            "['During', 'Ġthe', 'Ġperiod', 'Ġof', 'Ġfalling', 'Ġin', 'Ġlove', ',', 'Ġeach', 'Ġtime', 'Ġthat', 'Ġwe', 'Ġmet', 'Ġand', 'Ġespecially', 'Ġwhen', 'Ġwe', 'Ġhad', 'Ġnot', 'Ġmet', 'Ġfor', 'Ġa', 'Ġlong', 'Ġtime', '.']\n",
            "------------------------------------------------------------\n",
            "[14229, 5, 675, 9, 3064, 11, 657, 6, 349, 86, 14, 52, 1145, 8, 941, 77, 52, 56, 45, 1145, 13, 10, 251, 86, 4]\n"
          ]
        }
      ]
    },
    {
      "cell_type": "markdown",
      "source": [
        "# Distribution max length of sequence"
      ],
      "metadata": {
        "id": "Yy6dif1L5QP_"
      }
    },
    {
      "cell_type": "code",
      "source": [
        "lengths = np.array([len(x.split()) for x in df.sentence])\n",
        "sns.displot(lengths, kde=False, bins=30)\n",
        "plt.xlabel('review length')\n",
        "plt.title('Distribution of review lengths')\n",
        "plt.show()"
      ],
      "metadata": {
        "colab": {
          "base_uri": "https://localhost:8080/",
          "height": 548
        },
        "id": "nrOK51fg5O1V",
        "outputId": "bbe61bbb-d385-4d41-f441-890db4d80313"
      },
      "execution_count": null,
      "outputs": [
        {
          "output_type": "display_data",
          "data": {
            "text/plain": [
              "<Figure size 500x500 with 1 Axes>"
            ],
            "image/png": "[encoded data removed]"
          },
          "metadata": {}
        }
      ]
    },
    {
      "cell_type": "markdown",
      "source": [
        "optimal max len = 100 will be fine"
      ],
      "metadata": {
        "id": "tbN2Ucdn6uC3"
      }
    },
    {
      "cell_type": "markdown",
      "source": [
        "# Training, Test, Validation Data split"
      ],
      "metadata": {
        "id": "4pLuKmZO2gI4"
      }
    },
    {
      "cell_type": "code",
      "source": [
        "# Split train & test sets\n",
        "df_train,df_test= train_test_split(df,test_size =0.2, random_state=RANDOM_SEED, shuffle = True)\n",
        "# Split train validate sets\n",
        "df_train,df_val= train_test_split(df_train,test_size=0.1, random_state=RANDOM_SEED, shuffle = True)\n",
        "print(df_train.shape , df_test.shape , df_val.shape)"
      ],
      "metadata": {
        "colab": {
          "base_uri": "https://localhost:8080/"
        },
        "id": "F0Z2wdAz67QZ",
        "outputId": "abc96ce8-6290-4ad6-dbd2-275647e9bdb3"
      },
      "execution_count": null,
      "outputs": [
        {
          "output_type": "stream",
          "name": "stdout",
          "text": [
            "(5385, 3) (1496, 3) (599, 3)\n"
          ]
        }
      ]
    },
    {
      "cell_type": "markdown",
      "source": [
        "# Dataloader"
      ],
      "metadata": {
        "id": "tL9cs81O2qmG"
      }
    },
    {
      "cell_type": "code",
      "source": [
        "class Encode(Dataset):\n",
        "    def __init__(self, sentence, emoji, tokenizer, max_len, num_classes):\n",
        "        self.sentence = sentence\n",
        "        self.emoji = emoji\n",
        "        self.tokenizer = tokenizer\n",
        "        self.max_len = max_len\n",
        "        self.num_classes = num_classes  # จำนวนคลาส\n",
        "\n",
        "    def __len__(self):\n",
        "        return len(self.sentence)\n",
        "\n",
        "    def __getitem__(self, index):\n",
        "        sentence = self.sentence[index]\n",
        "        encoding = self.tokenizer.encode_plus(\n",
        "            sentence,\n",
        "            add_special_tokens=True,\n",
        "            max_length=self.max_len,\n",
        "            truncation=True,\n",
        "            return_token_type_ids=False,\n",
        "            pad_to_max_length=True,\n",
        "            return_attention_mask=True,\n",
        "            return_tensors='pt'\n",
        "        )\n",
        "\n",
        "        emoji_one_hot = torch.eye(self.num_classes)[self.emoji[index]]\n",
        "\n",
        "        return {\n",
        "            'sentence': sentence,\n",
        "            'input_id': encoding['input_ids'].flatten(),\n",
        "            'attention_mask': encoding['attention_mask'].flatten(),\n",
        "            'emoji': emoji_one_hot\n",
        "        }\n"
      ],
      "metadata": {
        "id": "RdaOCBav8OAY"
      },
      "execution_count": null,
      "outputs": []
    },
    {
      "cell_type": "code",
      "source": [
        "tokenizer = AutoTokenizer.from_pretrained(bert_model_name)\n",
        "MAX_LEN = 100\n",
        "\n",
        "training_data = Encode(sentence = df_train.sentence.to_numpy(),\n",
        "                               emoji = df_train.emoji.to_numpy(),\n",
        "                               tokenizer = tokenizer,\n",
        "                               max_len = MAX_LEN,num_classes=7)\n",
        "\n",
        "validation_data = Encode(sentence = df_val.sentence.to_numpy(),\n",
        "                               emoji = df_val.emoji.to_numpy(),\n",
        "                               tokenizer = tokenizer,\n",
        "                               max_len = MAX_LEN,num_classes=7)\n",
        "\n",
        "test_data = Encode(sentence = df_test.sentence.to_numpy(),\n",
        "                               emoji = df_test.emoji.to_numpy(),\n",
        "                               tokenizer = tokenizer,\n",
        "                               max_len = MAX_LEN,num_classes=7)"
      ],
      "metadata": {
        "id": "4a-lHxBy9HbZ"
      },
      "execution_count": null,
      "outputs": []
    },
    {
      "cell_type": "code",
      "source": [
        "print(len(training_data),len(test_data),len(validation_data))"
      ],
      "metadata": {
        "colab": {
          "base_uri": "https://localhost:8080/"
        },
        "id": "gdpXCqUH-BAB",
        "outputId": "d9ec5f0e-bc4e-4831-c109-01ab66053fe3"
      },
      "execution_count": null,
      "outputs": [
        {
          "output_type": "stream",
          "name": "stdout",
          "text": [
            "5385 1496 599\n"
          ]
        }
      ]
    },
    {
      "cell_type": "code",
      "source": [
        "## DataLoader\n",
        "BATCH_SIZE = 32\n",
        "train_loader = DataLoader(training_data , batch_size = BATCH_SIZE , shuffle = True)\n",
        "test_loader = DataLoader(test_data , batch_size = BATCH_SIZE , shuffle = False)\n",
        "val_loader = DataLoader(validation_data , batch_size = BATCH_SIZE , shuffle = False)"
      ],
      "metadata": {
        "id": "ANe1NtwK-Gjd"
      },
      "execution_count": null,
      "outputs": []
    },
    {
      "cell_type": "code",
      "source": [
        "sample_batch = next(iter(train_loader))\n",
        "sample_batch.keys()"
      ],
      "metadata": {
        "colab": {
          "base_uri": "https://localhost:8080/"
        },
        "id": "LmAQA2q0-L42",
        "outputId": "8c70f38f-b6ae-4120-e584-3ca0ec5549b8"
      },
      "execution_count": null,
      "outputs": [
        {
          "output_type": "stream",
          "name": "stderr",
          "text": [
            "/usr/local/lib/python3.10/dist-packages/transformers/tokenization_utils_base.py:2614: FutureWarning: The `pad_to_max_length` argument is deprecated and will be removed in a future version, use `padding=True` or `padding='longest'` to pad to the longest sequence in the batch, or use `padding='max_length'` to pad to a max length. In this case, you can give a specific length with `max_length` (e.g. `max_length=45`) or leave max_length to None to pad to the maximal input size of the model (e.g. 512 for Bert).\n",
            "  warnings.warn(\n"
          ]
        },
        {
          "output_type": "execute_result",
          "data": {
            "text/plain": [
              "dict_keys(['sentence', 'input_id', 'attention_mask', 'emoji'])"
            ]
          },
          "metadata": {},
          "execution_count": 14
        }
      ]
    },
    {
      "cell_type": "code",
      "source": [
        "print(sample_batch['sentence'][1])\n",
        "print(sample_batch['input_id'][1])\n",
        "print(sample_batch['attention_mask'][1])\n",
        "print(sample_batch['emoji'][1])\n",
        "print('-'*60)\n",
        "print(sample_batch['input_id'].shape,sample_batch['attention_mask'].shape,sample_batch['emoji'].shape)"
      ],
      "metadata": {
        "colab": {
          "base_uri": "https://localhost:8080/"
        },
        "id": "17zwrGOp-Q-J",
        "outputId": "3b6fa435-3f6c-46b8-aec4-bbb7aa2b6492"
      },
      "execution_count": null,
      "outputs": [
        {
          "output_type": "stream",
          "name": "stdout",
          "text": [
            "When I talk to my friends.\n",
            "tensor([   0, 1779,   38, 1067,    7,  127,  964,    4,    2,    1,    1,    1,\n",
            "           1,    1,    1,    1,    1,    1,    1,    1,    1,    1,    1,    1,\n",
            "           1,    1,    1,    1,    1,    1,    1,    1,    1,    1,    1,    1,\n",
            "           1,    1,    1,    1,    1,    1,    1,    1,    1,    1,    1,    1,\n",
            "           1,    1,    1,    1,    1,    1,    1,    1,    1,    1,    1,    1,\n",
            "           1,    1,    1,    1,    1,    1,    1,    1,    1,    1,    1,    1,\n",
            "           1,    1,    1,    1,    1,    1,    1,    1,    1,    1,    1,    1,\n",
            "           1,    1,    1,    1,    1,    1,    1,    1,    1,    1,    1,    1,\n",
            "           1,    1,    1,    1])\n",
            "tensor([1, 1, 1, 1, 1, 1, 1, 1, 1, 0, 0, 0, 0, 0, 0, 0, 0, 0, 0, 0, 0, 0, 0, 0,\n",
            "        0, 0, 0, 0, 0, 0, 0, 0, 0, 0, 0, 0, 0, 0, 0, 0, 0, 0, 0, 0, 0, 0, 0, 0,\n",
            "        0, 0, 0, 0, 0, 0, 0, 0, 0, 0, 0, 0, 0, 0, 0, 0, 0, 0, 0, 0, 0, 0, 0, 0,\n",
            "        0, 0, 0, 0, 0, 0, 0, 0, 0, 0, 0, 0, 0, 0, 0, 0, 0, 0, 0, 0, 0, 0, 0, 0,\n",
            "        0, 0, 0, 0])\n",
            "tensor([1., 0., 0., 0., 0., 0., 0.])\n",
            "------------------------------------------------------------\n",
            "torch.Size([32, 100]) torch.Size([32, 100]) torch.Size([32, 7])\n"
          ]
        }
      ]
    },
    {
      "cell_type": "markdown",
      "source": [
        "# RoBERTa-base model"
      ],
      "metadata": {
        "id": "Ml5vsSEn20WF"
      }
    },
    {
      "cell_type": "markdown",
      "source": [
        "set lable and change dropout to 0.4"
      ],
      "metadata": {
        "id": "z544wL5C231u"
      }
    },
    {
      "cell_type": "code",
      "source": [
        "class SentimentAnalysisModel(torch.nn.Module):\n",
        "    def __init__(self, bert_model_name, num_labels=7, dropout_rate=0.4):\n",
        "        super(SentimentAnalysisModel, self).__init__()\n",
        "        self.model = AutoModelForSequenceClassification.from_pretrained(bert_model_name)\n",
        "        self.model.classifier.out_proj = torch.nn.Linear(self.model.config.hidden_size, num_labels)\n",
        "        self.model.classifier.dropout = torch.nn.Dropout(p=dropout_rate, inplace=False)\n",
        "        # ปรับ dropout ในทุก RobertaLayer\n",
        "        for layer in self.model.roberta.encoder.layer:\n",
        "            layer.attention.self.dropout = torch.nn.Dropout(p=dropout_rate)\n",
        "            layer.attention.output.dropout = torch.nn.Dropout(p=dropout_rate)\n",
        "            layer.intermediate.dropout = torch.nn.Dropout(p=dropout_rate)\n",
        "            layer.output.dropout = torch.nn.Dropout(p=dropout_rate)\n",
        "\n",
        "        self.tokenizer = AutoTokenizer.from_pretrained(bert_model_name)\n",
        "\n",
        "    def forward(self, input_ids, attention_mask, labels=None):\n",
        "        outputs = self.model(input_ids, attention_mask=attention_mask, labels=labels)\n",
        "        return outputs\n",
        "\n",
        "    def predict_sentiment(self, text):\n",
        "        # ทำการ tokenize ข้อความ\n",
        "        inputs = self.tokenizer(text, return_tensors=\"pt\")\n",
        "        input_ids = inputs[\"input_ids\"]\n",
        "        attention_mask = inputs[\"attention_mask\"]\n",
        "\n",
        "        # นำข้อมูลเข้าโมเดลเพื่อทำนาย\n",
        "        outputs = self.forward(input_ids, attention_mask=attention_mask)\n",
        "        logits = outputs.logits\n",
        "\n",
        "        # ทำ softmax เพื่อหาความน่าจะเป็น\n",
        "        predicted_prob = torch.softmax(logits, dim=1)\n",
        "        predicted_class = torch.argmax(predicted_prob, dim=1).item()\n",
        "        predicted_emotion = emoji_to_emotion[predicted_class]\n",
        "\n",
        "        return predicted_prob, predicted_emotion\n"
      ],
      "metadata": {
        "id": "bATDqUTJjl3E"
      },
      "execution_count": null,
      "outputs": []
    },
    {
      "cell_type": "code",
      "source": [
        "model = SentimentAnalysisModel(bert_model_name, num_labels=7, dropout_rate=0.4).to(device)\n",
        "model"
      ],
      "metadata": {
        "colab": {
          "base_uri": "https://localhost:8080/"
        },
        "id": "nlhA8n_Rsf6Q",
        "outputId": "82c24335-6c9a-45b1-d621-7a9594fc2f4b"
      },
      "execution_count": null,
      "outputs": [
        {
          "output_type": "execute_result",
          "data": {
            "text/plain": [
              "SentimentAnalysisModel(\n",
              "  (model): RobertaForSequenceClassification(\n",
              "    (roberta): RobertaModel(\n",
              "      (embeddings): RobertaEmbeddings(\n",
              "        (word_embeddings): Embedding(50265, 768, padding_idx=1)\n",
              "        (position_embeddings): Embedding(514, 768, padding_idx=1)\n",
              "        (token_type_embeddings): Embedding(1, 768)\n",
              "        (LayerNorm): LayerNorm((768,), eps=1e-05, elementwise_affine=True)\n",
              "        (dropout): Dropout(p=0.1, inplace=False)\n",
              "      )\n",
              "      (encoder): RobertaEncoder(\n",
              "        (layer): ModuleList(\n",
              "          (0-11): 12 x RobertaLayer(\n",
              "            (attention): RobertaAttention(\n",
              "              (self): RobertaSelfAttention(\n",
              "                (query): Linear(in_features=768, out_features=768, bias=True)\n",
              "                (key): Linear(in_features=768, out_features=768, bias=True)\n",
              "                (value): Linear(in_features=768, out_features=768, bias=True)\n",
              "                (dropout): Dropout(p=0.4, inplace=False)\n",
              "              )\n",
              "              (output): RobertaSelfOutput(\n",
              "                (dense): Linear(in_features=768, out_features=768, bias=True)\n",
              "                (LayerNorm): LayerNorm((768,), eps=1e-05, elementwise_affine=True)\n",
              "                (dropout): Dropout(p=0.4, inplace=False)\n",
              "              )\n",
              "            )\n",
              "            (intermediate): RobertaIntermediate(\n",
              "              (dense): Linear(in_features=768, out_features=3072, bias=True)\n",
              "              (intermediate_act_fn): GELUActivation()\n",
              "              (dropout): Dropout(p=0.4, inplace=False)\n",
              "            )\n",
              "            (output): RobertaOutput(\n",
              "              (dense): Linear(in_features=3072, out_features=768, bias=True)\n",
              "              (LayerNorm): LayerNorm((768,), eps=1e-05, elementwise_affine=True)\n",
              "              (dropout): Dropout(p=0.4, inplace=False)\n",
              "            )\n",
              "          )\n",
              "        )\n",
              "      )\n",
              "    )\n",
              "    (classifier): RobertaClassificationHead(\n",
              "      (dense): Linear(in_features=768, out_features=768, bias=True)\n",
              "      (dropout): Dropout(p=0.4, inplace=False)\n",
              "      (out_proj): Linear(in_features=768, out_features=7, bias=True)\n",
              "    )\n",
              "  )\n",
              ")"
            ]
          },
          "metadata": {},
          "execution_count": 17
        }
      ]
    },
    {
      "cell_type": "markdown",
      "source": [
        "# Fine-Tuning"
      ],
      "metadata": {
        "id": "o7rFLX7B3PC7"
      }
    },
    {
      "cell_type": "code",
      "source": [
        "def train_model(model, train_loader, optimizer, criterion, device):\n",
        "    model.train()\n",
        "    total_loss = 0\n",
        "    total_correct = 0\n",
        "    total_samples = 0\n",
        "\n",
        "    for batch in train_loader:\n",
        "        input_ids = batch[\"input_id\"].to(device)\n",
        "        attention_mask = batch[\"attention_mask\"].to(device)\n",
        "        labels = batch[\"emoji\"].to(device)\n",
        "\n",
        "        optimizer.zero_grad()\n",
        "        outputs = model(input_ids, attention_mask=attention_mask, labels=labels)\n",
        "        loss = outputs.loss\n",
        "        total_loss += loss.item()\n",
        "\n",
        "        # แก้ไขนี้: เพิ่มการคำนวณ accuracy\n",
        "        predicted = torch.argmax(outputs.logits, dim=1)\n",
        "        total_correct += (predicted == labels.argmax(dim=1)).sum().item()\n",
        "        total_samples += labels.size(0)\n",
        "\n",
        "        loss.backward()\n",
        "        optimizer.step()\n",
        "\n",
        "    average_loss = total_loss / len(train_loader)\n",
        "    accuracy = total_correct / total_samples  # คำนวณ accuracy\n",
        "    return average_loss, accuracy\n"
      ],
      "metadata": {
        "id": "me_0jqWTj4lP"
      },
      "execution_count": null,
      "outputs": []
    },
    {
      "cell_type": "code",
      "source": [
        "def evaluate_model(model, val_loader, criterion, device):\n",
        "    model.eval()\n",
        "    total_loss = 0.0\n",
        "    total_correct = 0\n",
        "    total_samples = 0\n",
        "\n",
        "    with torch.no_grad():\n",
        "        for batch in val_loader:\n",
        "            input_ids = batch['input_id'].to(device)\n",
        "            attention_mask = batch['attention_mask'].to(device)\n",
        "            labels = batch['emoji'].to(device)\n",
        "\n",
        "            outputs = model(input_ids, attention_mask=attention_mask, labels=labels)\n",
        "            loss = outputs.loss\n",
        "\n",
        "            predicted = torch.argmax(outputs.logits, dim=1)\n",
        "\n",
        "            total_loss += loss.item()\n",
        "            total_correct += (predicted == labels.argmax(dim=1)).sum().item()\n",
        "            total_samples += labels.size(0)\n",
        "\n",
        "    average_loss = total_loss / len(val_loader)\n",
        "    accuracy = total_correct / total_samples\n",
        "\n",
        "    return average_loss, accuracy\n"
      ],
      "metadata": {
        "id": "No4TxvEZj8wt"
      },
      "execution_count": null,
      "outputs": []
    },
    {
      "cell_type": "code",
      "source": [
        "import torch\n",
        "import pickle\n",
        "\n",
        "# define hyperparameters\n",
        "EPOCHS = 20\n",
        "\n",
        "# Initialize Optimizer and Loss Function\n",
        "optimizer = torch.optim.AdamW(model.parameters(), lr=1e-5, weight_decay=1e-4)\n",
        "\n",
        "criterion = torch.nn.CrossEntropyLoss()\n",
        "\n",
        "total_steps = len(train_loader) * EPOCHS\n",
        "scheduler = get_linear_schedule_with_warmup(optimizer, num_warmup_steps=0, num_training_steps=total_steps, last_epoch=-1)\n",
        "\n",
        "history = {'loss': [], 'val_loss': [], 'accuracy': [], 'val_accuracy': []}\n",
        "\n",
        "best_val_accuracy = 0.0\n",
        "\n",
        "for epoch in range(EPOCHS):\n",
        "    # Training\n",
        "    train_loss, train_accuracy = train_model(model, train_loader, optimizer, criterion, device)\n",
        "    print(f\"Epoch {epoch + 1}/{EPOCHS}, Training Loss: {train_loss}, Training Accuracy: {train_accuracy * 100:.2f}%\")\n",
        "\n",
        "    # Validation\n",
        "    val_loss, val_accuracy = evaluate_model(model, val_loader, criterion, device)\n",
        "    print(f\"Epoch {epoch + 1}/{EPOCHS}, Validation Loss: {val_loss}, Validation Accuracy: {val_accuracy * 100:.2f}%\")\n",
        "\n",
        "    scheduler.step()\n",
        "\n",
        "    # history\n",
        "    history['loss'].append(train_loss)\n",
        "    history['val_loss'].append(val_loss)\n",
        "    history['accuracy'].append(train_accuracy)\n",
        "    history['val_accuracy'].append(val_accuracy)\n",
        "\n",
        "    # save checkpoint when val_accuracy better\n",
        "    if val_accuracy > best_val_accuracy:\n",
        "        best_val_accuracy = val_accuracy\n",
        "        checkpoint = {\n",
        "            'epoch': epoch + 1,\n",
        "            'model_state_dict': model.state_dict(),\n",
        "            'optimizer_state_dict': optimizer.state_dict(),\n",
        "            'loss': train_loss,\n",
        "            'val_loss': val_loss,\n",
        "            'accuracy': train_accuracy,\n",
        "            'val_accuracy': val_accuracy\n",
        "        }\n",
        "        torch.save(checkpoint, f\"best_model_{val_accuracy:.2f}.pth\")\n",
        "\n",
        "with open('history.pkl', 'wb') as f:\n",
        "    pickle.dump(history, f)\n"
      ],
      "metadata": {
        "colab": {
          "base_uri": "https://localhost:8080/"
        },
        "id": "3Sibprtzj-w3",
        "outputId": "5ee85f81-434e-486b-e00e-374b21915f4f"
      },
      "execution_count": null,
      "outputs": [
        {
          "output_type": "stream",
          "name": "stderr",
          "text": [
            "/usr/local/lib/python3.10/dist-packages/transformers/tokenization_utils_base.py:2614: FutureWarning: The `pad_to_max_length` argument is deprecated and will be removed in a future version, use `padding=True` or `padding='longest'` to pad to the longest sequence in the batch, or use `padding='max_length'` to pad to a max length. In this case, you can give a specific length with `max_length` (e.g. `max_length=45`) or leave max_length to None to pad to the maximal input size of the model (e.g. 512 for Bert).\n",
            "  warnings.warn(\n"
          ]
        },
        {
          "output_type": "stream",
          "name": "stdout",
          "text": [
            "Epoch 1/20, Training Loss: 0.4626597109630968, Training Accuracy: 14.89%\n",
            "Epoch 1/20, Validation Loss: 0.4288399768503089, Validation Accuracy: 18.36%\n",
            "Epoch 2/20, Training Loss: 0.4155392673241316, Training Accuracy: 15.12%\n",
            "Epoch 2/20, Validation Loss: 0.4159810590116601, Validation Accuracy: 27.05%\n",
            "Epoch 3/20, Training Loss: 0.4021904269266411, Training Accuracy: 24.33%\n",
            "Epoch 3/20, Validation Loss: 0.38402129631293447, Validation Accuracy: 45.91%\n",
            "Epoch 4/20, Training Loss: 0.36182695080542704, Training Accuracy: 41.84%\n",
            "Epoch 4/20, Validation Loss: 0.3091298702516054, Validation Accuracy: 58.93%\n",
            "Epoch 5/20, Training Loss: 0.3240640792973648, Training Accuracy: 50.97%\n",
            "Epoch 5/20, Validation Loss: 0.27906138881256703, Validation Accuracy: 61.44%\n",
            "Epoch 6/20, Training Loss: 0.30052612554392166, Training Accuracy: 55.13%\n",
            "Epoch 6/20, Validation Loss: 0.2548267339405261, Validation Accuracy: 64.27%\n",
            "Epoch 7/20, Training Loss: 0.28301420649127845, Training Accuracy: 58.76%\n",
            "Epoch 7/20, Validation Loss: 0.24825381448394374, Validation Accuracy: 65.94%\n",
            "Epoch 8/20, Training Loss: 0.2741159720004663, Training Accuracy: 59.96%\n",
            "Epoch 8/20, Validation Loss: 0.23962147377039256, Validation Accuracy: 66.44%\n",
            "Epoch 9/20, Training Loss: 0.263014249900389, Training Accuracy: 61.63%\n",
            "Epoch 9/20, Validation Loss: 0.2303181086715899, Validation Accuracy: 69.95%\n",
            "Epoch 10/20, Training Loss: 0.2534126358095711, Training Accuracy: 63.10%\n",
            "Epoch 10/20, Validation Loss: 0.2177768290827149, Validation Accuracy: 72.12%\n",
            "Epoch 11/20, Training Loss: 0.24640242755413055, Training Accuracy: 64.25%\n",
            "Epoch 11/20, Validation Loss: 0.21974412312633113, Validation Accuracy: 71.29%\n",
            "Epoch 12/20, Training Loss: 0.2410080267127449, Training Accuracy: 65.07%\n",
            "Epoch 12/20, Validation Loss: 0.21244756289218603, Validation Accuracy: 72.45%\n",
            "Epoch 13/20, Training Loss: 0.23377286603112193, Training Accuracy: 66.65%\n",
            "Epoch 13/20, Validation Loss: 0.21488840250592484, Validation Accuracy: 72.62%\n",
            "Epoch 14/20, Training Loss: 0.2276143678546657, Training Accuracy: 67.82%\n",
            "Epoch 14/20, Validation Loss: 0.21592609231409274, Validation Accuracy: 71.12%\n",
            "Epoch 15/20, Training Loss: 0.22338557737113457, Training Accuracy: 67.86%\n",
            "Epoch 15/20, Validation Loss: 0.21828472888783404, Validation Accuracy: 72.12%\n",
            "Epoch 16/20, Training Loss: 0.21760868065103273, Training Accuracy: 68.43%\n",
            "Epoch 16/20, Validation Loss: 0.21363866329193115, Validation Accuracy: 72.95%\n",
            "Epoch 17/20, Training Loss: 0.21297418083664935, Training Accuracy: 69.81%\n",
            "Epoch 17/20, Validation Loss: 0.21218348098428627, Validation Accuracy: 73.12%\n",
            "Epoch 18/20, Training Loss: 0.20942308008670807, Training Accuracy: 69.92%\n",
            "Epoch 18/20, Validation Loss: 0.21372869453932108, Validation Accuracy: 73.12%\n",
            "Epoch 19/20, Training Loss: 0.20339766030128187, Training Accuracy: 71.14%\n",
            "Epoch 19/20, Validation Loss: 0.21637205348203056, Validation Accuracy: 71.95%\n",
            "Epoch 20/20, Training Loss: 0.19960181684007305, Training Accuracy: 71.70%\n",
            "Epoch 20/20, Validation Loss: 0.20686265904652446, Validation Accuracy: 74.62%\n"
          ]
        }
      ]
    },
    {
      "cell_type": "code",
      "source": [
        "import matplotlib.pyplot as plt\n",
        "\n",
        "def plot_history(history):\n",
        "    # พล็อตกราฟ Loss\n",
        "    plt.figure(figsize=(12, 6))\n",
        "    plt.subplot(1, 2, 1)\n",
        "    plt.plot(history['loss'], label='Training Loss', marker='o')\n",
        "    plt.plot(history['val_loss'], label='Validation Loss', marker='o')\n",
        "    plt.title('Training and Validation Loss')\n",
        "    plt.xlabel('Epoch')\n",
        "    plt.ylabel('Loss')\n",
        "    plt.legend()\n",
        "\n",
        "    # พล็อตกราฟ Accuracy\n",
        "    plt.subplot(1, 2, 2)\n",
        "    plt.plot(history['accuracy'], label='Training Accuracy', marker='o')\n",
        "    plt.plot(history['val_accuracy'], label='Validation Accuracy', marker='o')\n",
        "    plt.title('Training and Validation Accuracy')\n",
        "    plt.xlabel('Epoch')\n",
        "    plt.ylabel('Accuracy')\n",
        "    plt.legend()\n",
        "\n",
        "    plt.tight_layout()\n",
        "    plt.show()\n",
        "\n"
      ],
      "metadata": {
        "id": "je5Xz4_P3eb6"
      },
      "execution_count": null,
      "outputs": []
    },
    {
      "cell_type": "code",
      "source": [
        "plot_history(history)"
      ],
      "metadata": {
        "colab": {
          "base_uri": "https://localhost:8080/",
          "height": 521
        },
        "id": "QmGXJ8vI36Z-",
        "outputId": "0dd547b6-5f6c-47d3-ed6e-17611cc9582c"
      },
      "execution_count": null,
      "outputs": [
        {
          "output_type": "display_data",
          "data": {
            "text/plain": [
              "<Figure size 1200x600 with 2 Axes>"
            ],
            "image/png": "[encoded data removed]"
          },
          "metadata": {}
        }
      ]
    },
    {
      "cell_type": "markdown",
      "source": [
        "# Evaluation model on Test data"
      ],
      "metadata": {
        "id": "Tlr9K6TZ3ZUa"
      }
    },
    {
      "cell_type": "code",
      "source": [
        "def get_predictions(model, data_loader):\n",
        "    model = model.eval()\n",
        "\n",
        "    review_texts = []\n",
        "    predictions = []\n",
        "    prediction_probs = []\n",
        "    real_values = []\n",
        "\n",
        "    with torch.no_grad():\n",
        "        for d in tqdm(data_loader):\n",
        "\n",
        "            texts = d[\"sentence\"]\n",
        "            input_ids = d[\"input_id\"]\n",
        "            attention_mask = d[\"attention_mask\"]\n",
        "            targets = d[\"emoji\"]\n",
        "\n",
        "            outputs = model(input_ids=input_ids,\n",
        "                            attention_mask=attention_mask)\n",
        "\n",
        "            logits = outputs.logits  # Assuming logits attribute contains the predicted scores\n",
        "\n",
        "            _, preds = torch.max(logits, dim=1)\n",
        "\n",
        "            probs = F.softmax(logits, dim=1)\n",
        "\n",
        "            review_texts.extend(texts)\n",
        "            predictions.extend(preds)\n",
        "            prediction_probs.extend(probs)\n",
        "            real_values.extend(torch.argmax(targets, dim=1))  # Convert one-hot to labels\n",
        "\n",
        "    predictions = torch.stack(predictions).cpu()\n",
        "    prediction_probs = torch.stack(prediction_probs).cpu()\n",
        "    real_values = torch.stack(real_values).cpu()\n",
        "    return review_texts, predictions, prediction_probs, real_values"
      ],
      "metadata": {
        "id": "7MGmIuDWF51u"
      },
      "execution_count": null,
      "outputs": []
    },
    {
      "cell_type": "code",
      "source": [
        "from tqdm import tqdm\n",
        "import torch.nn.functional as F\n",
        "y_review_texts, y_pred, y_pred_probs, y_test = get_predictions(model,test_loader)"
      ],
      "metadata": {
        "colab": {
          "base_uri": "https://localhost:8080/"
        },
        "id": "jOx-njXFGMOi",
        "outputId": "bad315e9-1d65-48c8-e6ab-f9cadb149ac7"
      },
      "execution_count": null,
      "outputs": [
        {
          "output_type": "stream",
          "name": "stderr",
          "text": [
            "\r  0%|          | 0/47 [00:00<?, ?it/s]/usr/local/lib/python3.10/dist-packages/transformers/tokenization_utils_base.py:2614: FutureWarning: The `pad_to_max_length` argument is deprecated and will be removed in a future version, use `padding=True` or `padding='longest'` to pad to the longest sequence in the batch, or use `padding='max_length'` to pad to a max length. In this case, you can give a specific length with `max_length` (e.g. `max_length=45`) or leave max_length to None to pad to the maximal input size of the model (e.g. 512 for Bert).\n",
            "  warnings.warn(\n",
            "100%|██████████| 47/47 [01:42<00:00,  2.18s/it]\n"
          ]
        }
      ]
    },
    {
      "cell_type": "markdown",
      "source": [
        "## Classification Report"
      ],
      "metadata": {
        "id": "VAmSYBPk3gCo"
      }
    },
    {
      "cell_type": "code",
      "source": [
        "class_names =   ['😆','😱','😡','😭','🤮','😳','😞']\n",
        "print(classification_report(y_test, y_pred, target_names=class_names))"
      ],
      "metadata": {
        "id": "wQK5KQtcG8-n",
        "colab": {
          "base_uri": "https://localhost:8080/"
        },
        "outputId": "4eeafb1b-2522-4574-83b7-635b3317ad34"
      },
      "execution_count": null,
      "outputs": [
        {
          "output_type": "stream",
          "name": "stdout",
          "text": [
            "              precision    recall  f1-score   support\n",
            "\n",
            "           😆       0.88      0.94      0.91       229\n",
            "           😱       0.79      0.76      0.77       217\n",
            "           😡       0.63      0.63      0.63       223\n",
            "           😭       0.71      0.75      0.73       224\n",
            "           🤮       0.72      0.70      0.71       200\n",
            "           😳       0.56      0.63      0.59       195\n",
            "           😞       0.74      0.60      0.66       208\n",
            "\n",
            "    accuracy                           0.72      1496\n",
            "   macro avg       0.72      0.72      0.72      1496\n",
            "weighted avg       0.72      0.72      0.72      1496\n",
            "\n"
          ]
        }
      ]
    },
    {
      "cell_type": "markdown",
      "source": [
        "## Input Text"
      ],
      "metadata": {
        "id": "GAg-8S4J3kZ2"
      }
    },
    {
      "cell_type": "code",
      "source": [
        "model.to(\"cpu\")\n",
        "text_to_predict = \"i love you so much\"\n",
        "\n",
        "text_to_predict = [text_to_predict]\n",
        "predicted_class = model.predict_sentiment(text_to_predict)\n",
        "\n",
        "print(f\"Predicted Class: {predicted_class[1]}\")\n"
      ],
      "metadata": {
        "colab": {
          "base_uri": "https://localhost:8080/"
        },
        "id": "2qCTcKulqk2s",
        "outputId": "fb496d97-e78b-414a-ca2d-c5e30b9a0615"
      },
      "execution_count": null,
      "outputs": [
        {
          "output_type": "stream",
          "name": "stdout",
          "text": [
            "Predicted Class: joy 😆\n"
          ]
        }
      ]
    },
    {
      "cell_type": "code",
      "source": [
        "text_to_predict = \"I will kill you\"\n",
        "\n",
        "text_to_predict = [text_to_predict]\n",
        "predicted_class = model.predict_sentiment(text_to_predict)\n",
        "\n",
        "print(f\"Predicted Class: {predicted_class[1]}\")"
      ],
      "metadata": {
        "colab": {
          "base_uri": "https://localhost:8080/"
        },
        "id": "tXl6gJzfQBTP",
        "outputId": "a9710cf7-5a75-4e49-ed56-20eab0c00312"
      },
      "execution_count": null,
      "outputs": [
        {
          "output_type": "stream",
          "name": "stdout",
          "text": [
            "Predicted Class: fear 😱\n"
          ]
        }
      ]
    },
    {
      "cell_type": "code",
      "source": [
        "torch.save(model.state_dict(), \"best_model_75.pth\")"
      ],
      "metadata": {
        "id": "3Lq6xzXgPg-u"
      },
      "execution_count": null,
      "outputs": []
    },
    {
      "cell_type": "markdown",
      "source": [
        "# Write Gradio Deployment File"
      ],
      "metadata": {
        "id": "mEAIIQUoQgxz"
      }
    },
    {
      "cell_type": "code",
      "source": [
        "import shutil\n",
        "from pathlib import Path\n",
        "\n",
        "# Create FoodVision mini demo path\n",
        "sentiment_demo_path = Path(\"demos/sentiment/\")\n",
        "\n",
        "# Remove files that might already exist there and create new directory\n",
        "if sentiment_demo_path.exists():\n",
        "    shutil.rmtree(sentiment_demo_path)\n",
        "    sentiment_demo_path.mkdir(parents=True, # make the parent folders?\n",
        "                                    exist_ok=True) # create it even if it already exists?\n",
        "else:\n",
        "    # If the file doesn't exist, create it anyway\n",
        "    sentiment_demo_path.mkdir(parents=True,\n",
        "                                    exist_ok=True)\n",
        "\n",
        "# Check what's in the folder\n",
        "!ls demos/sentiment/"
      ],
      "metadata": {
        "id": "rr1G6g6lc6sz"
      },
      "execution_count": null,
      "outputs": []
    },
    {
      "cell_type": "code",
      "source": [
        "%%writefile demos/sentiment/model.py\n",
        "\n",
        "import torch\n",
        "from transformers import AutoModelForSequenceClassification, AutoTokenizer\n",
        "\n",
        "class SentimentAnalysisModel(torch.nn.Module):\n",
        "    def __init__(self, bert_model_name, num_labels=7, dropout_rate=0.4):\n",
        "        super(SentimentAnalysisModel, self).__init__()\n",
        "        self.model = AutoModelForSequenceClassification.from_pretrained(bert_model_name)\n",
        "        self.model.classifier.out_proj = torch.nn.Linear(self.model.config.hidden_size, num_labels)\n",
        "        self.model.classifier.dropout = torch.nn.Dropout(p=dropout_rate, inplace=False)\n",
        "        # ปรับ dropout ในทุก RobertaLayer\n",
        "        for layer in self.model.roberta.encoder.layer:\n",
        "            layer.attention.self.dropout = torch.nn.Dropout(p=dropout_rate)\n",
        "            layer.attention.output.dropout = torch.nn.Dropout(p=dropout_rate)\n",
        "            layer.intermediate.dropout = torch.nn.Dropout(p=dropout_rate)\n",
        "            layer.output.dropout = torch.nn.Dropout(p=dropout_rate)\n",
        "\n",
        "        self.tokenizer = AutoTokenizer.from_pretrained(bert_model_name)\n",
        "\n",
        "    def forward(self, input_ids, attention_mask, labels=None):\n",
        "        outputs = self.model(input_ids, attention_mask=attention_mask, labels=labels)\n",
        "        return outputs\n"
      ],
      "metadata": {
        "colab": {
          "base_uri": "https://localhost:8080/"
        },
        "id": "Xb0wnZKFeCC4",
        "outputId": "2b38a5fa-fa19-4406-d32e-75ba9675001b"
      },
      "execution_count": null,
      "outputs": [
        {
          "output_type": "stream",
          "name": "stdout",
          "text": [
            "Writing demos/sentiment/model.py\n"
          ]
        }
      ]
    },
    {
      "cell_type": "code",
      "source": [
        "%%writefile demos/sentiment/app.py\n",
        "\n",
        "import torch\n",
        "import gradio as gr\n",
        "from model import SentimentAnalysisModel\n",
        "from timeit import default_timer as timer\n",
        "\n",
        "# Load the pre-trained sentiment analysis model\n",
        "model = SentimentAnalysisModel(bert_model_name=\"SamLowe/roberta-base-go_emotions\", num_labels=7)\n",
        "model.load_state_dict(torch.load(\"best_model_75.pth\", map_location=torch.device('cpu')), strict=False)\n",
        "\n",
        "model.eval()\n",
        "\n",
        "# Mapping from predicted class to emoji\n",
        "emoji_to_emotion = {\n",
        "    0: 'joy 😆',\n",
        "    1: 'fear 😱',\n",
        "    2: 'anger 😡',\n",
        "    3: 'sadness 😭',\n",
        "    4: 'disgust 🤮',\n",
        "    5: 'shame 😳',\n",
        "    6: 'guilt 😞'\n",
        "}\n",
        "\n",
        "# Function to make predictions\n",
        "def predict_sentiment(text):\n",
        "    start_time = timer()\n",
        "\n",
        "    inputs = model.tokenizer(text, return_tensors=\"pt\", truncation=True, padding=True)\n",
        "    input_ids = inputs[\"input_ids\"]\n",
        "    attention_mask = inputs[\"attention_mask\"]\n",
        "\n",
        "    with torch.no_grad():\n",
        "        outputs = model(input_ids=input_ids, attention_mask=attention_mask)\n",
        "\n",
        "    logits = outputs.logits\n",
        "    probabilities = torch.nn.functional.softmax(logits, dim=1)\n",
        "\n",
        "    # Map predicted class to emoji\n",
        "    predicted_class = torch.argmax(logits, dim=1).item()\n",
        "    result = emoji_to_emotion[predicted_class]\n",
        "\n",
        "    # Create a dictionary of class probabilities\n",
        "    class_probabilities = {emoji_to_emotion[i]: float(probabilities[0, i]) for i in range(len(emoji_to_emotion))}\n",
        "\n",
        "    # Calculate prediction time\n",
        "    pred_time = round(timer() - start_time, 5)\n",
        "\n",
        "    return class_probabilities, pred_time\n",
        "\n",
        "# Create title, description and article strings\n",
        "title = \"Emoji-aware Sentiment Analysis using Roberta Model\"\n",
        "description = \"Explore the power of sentiment analysis with our Emotion Detector! Simply input a sentence or text, and let our model predict the underlying emotion.\"\n",
        "article = \"Sentiment Analysis, also known as opinion mining, is a branch of Natural Language Processing (NLP) that involves determining the emotional tone behind a piece of text. This powerful tool allows us to uncover the underlying feelings, attitudes, and opinions expressed in written communication.\"\n",
        "\n",
        "\n",
        "# Interface for Gradio\n",
        "iface = gr.Interface(\n",
        "    fn=predict_sentiment,\n",
        "    inputs=\"text\",\n",
        "    outputs=[gr.Label(num_top_classes=7, label=\"Predictions\"),\n",
        "                             gr.Number(label=\"Prediction time (s)\")],\n",
        "    title=title,\n",
        "    description=description,\n",
        "    article=article)\n",
        "\n",
        "# Launch the Gradio interface\n",
        "iface.launch()\n",
        "\n"
      ],
      "metadata": {
        "colab": {
          "base_uri": "https://localhost:8080/"
        },
        "id": "K78VnOuQgnUv",
        "outputId": "67c071fc-ace4-4981-aaba-af8d7328f400"
      },
      "execution_count": null,
      "outputs": [
        {
          "output_type": "stream",
          "name": "stdout",
          "text": [
            "Writing demos/sentiment/app.py\n"
          ]
        }
      ]
    },
    {
      "cell_type": "code",
      "source": [
        "%%writefile demos/sentiment/requirements.txt\n",
        "torch\n",
        "transformers\n",
        "gradio"
      ],
      "metadata": {
        "colab": {
          "base_uri": "https://localhost:8080/"
        },
        "id": "4hsU5ajojVrs",
        "outputId": "b637ce4f-ab26-411d-b365-25b7762a7645"
      },
      "execution_count": null,
      "outputs": [
        {
          "output_type": "stream",
          "name": "stdout",
          "text": [
            "Writing demos/sentiment/requirements.txt\n"
          ]
        }
      ]
    },
    {
      "cell_type": "code",
      "source": [
        "!ls demos/sentiment"
      ],
      "metadata": {
        "colab": {
          "base_uri": "https://localhost:8080/"
        },
        "id": "6zLOdJqFjo9I",
        "outputId": "4d8a631f-49e7-4765-9625-79b54154a1b7"
      },
      "execution_count": null,
      "outputs": [
        {
          "output_type": "stream",
          "name": "stdout",
          "text": [
            "app.py\tbest_model_75.pth  model.py  requirements.txt\n"
          ]
        }
      ]
    },
    {
      "cell_type": "code",
      "source": [
        "# Change into and then zip the foodvision_mini folder but exclude certain files\n",
        "!cd demos/sentiment && zip -r ../sentiment.zip * -x \"*.pyc\" \"*.ipynb\" \"*__pycache__*\" \"*ipynb_checkpoints*\""
      ],
      "metadata": {
        "colab": {
          "base_uri": "https://localhost:8080/",
          "height": 106
        },
        "id": "CKSjZoZFjyKP",
        "outputId": "e6a347da-2bb4-428c-9137-a3e9ad329571"
      },
      "execution_count": null,
      "outputs": [
        {
          "output_type": "stream",
          "name": "stdout",
          "text": [
            "  adding: app.py (deflated 51%)\n",
            "  adding: best_model_75.pth (deflated 24%)\n",
            "  adding: model.py (deflated 62%)\n",
            "  adding: requirements.txt (stored 0%)\n"
          ]
        },
        {
          "output_type": "display_data",
          "data": {
            "text/plain": [
              "<IPython.core.display.Javascript object>"
            ],
            "application/javascript": [
              "\n",
              "    async function download(id, filename, size) {\n",
              "      if (!google.colab.kernel.accessAllowed) {\n",
              "        return;\n",
              "      }\n",
              "      const div = document.createElement('div');\n",
              "      const label = document.createElement('label');\n",
              "      label.textContent = `Downloading \"${filename}\": `;\n",
              "      div.appendChild(label);\n",
              "      const progress = document.createElement('progress');\n",
              "      progress.max = size;\n",
              "      div.appendChild(progress);\n",
              "      document.body.appendChild(div);\n",
              "\n",
              "      const buffers = [];\n",
              "      let downloaded = 0;\n",
              "\n",
              "      const channel = await google.colab.kernel.comms.open(id);\n",
              "      // Send a message to notify the kernel that we're ready.\n",
              "      channel.send({})\n",
              "\n",
              "      for await (const message of channel.messages) {\n",
              "        // Send a message to notify the kernel that we're ready.\n",
              "        channel.send({})\n",
              "        if (message.buffers) {\n",
              "          for (const buffer of message.buffers) {\n",
              "            buffers.push(buffer);\n",
              "            downloaded += buffer.byteLength;\n",
              "            progress.value = downloaded;\n",
              "          }\n",
              "        }\n",
              "      }\n",
              "      const blob = new Blob(buffers, {type: 'application/binary'});\n",
              "      const a = document.createElement('a');\n",
              "      a.href = window.URL.createObjectURL(blob);\n",
              "      a.download = filename;\n",
              "      div.appendChild(a);\n",
              "      a.click();\n",
              "      div.remove();\n",
              "    }\n",
              "  "
            ]
          },
          "metadata": {}
        },
        {
          "output_type": "display_data",
          "data": {
            "text/plain": [
              "<IPython.core.display.Javascript object>"
            ],
            "application/javascript": [
              "download(\"download_c43ab956-3c9c-42ad-a84c-a98859dd9fc6\", \"sentiment.zip\", 1131284807)"
            ]
          },
          "metadata": {}
        }
      ]
    },
    {
      "cell_type": "code",
      "source": [
        "from google.colab import drive\n",
        "drive.mount('/content/drive')\n"
      ],
      "metadata": {
        "colab": {
          "base_uri": "https://localhost:8080/"
        },
        "id": "l3Y9ThX9-ABY",
        "outputId": "dabaf23b-8528-49d1-fb37-fda71f9ab629"
      },
      "execution_count": null,
      "outputs": [
        {
          "output_type": "stream",
          "name": "stdout",
          "text": [
            "Mounted at /content/drive\n"
          ]
        }
      ]
    },
    {
      "cell_type": "code",
      "source": [
        "!cp demos/sentiment.zip \"/content/drive/MyDrive/model/\""
      ],
      "metadata": {
        "id": "cpEkVdJZ-zYE"
      },
      "execution_count": null,
      "outputs": []
    }
  ]
}